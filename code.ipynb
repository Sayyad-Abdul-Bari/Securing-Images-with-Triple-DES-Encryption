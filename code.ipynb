{
 "cells": [
  {
   "cell_type": "code",
   "execution_count": null,
   "id": "0f75a4fb",
   "metadata": {
    "scrolled": true
   },
   "outputs": [
    {
     "name": "stdout",
     "output_type": "stream",
     "text": [
      "Choose :\n",
      "\t1- Encryption\n",
      "\t2- Decryption\n"
     ]
    }
   ],
   "source": [
    "from Crypto.Cipher import DES3\n",
    "from hashlib import md5\n",
    "\n",
    "# For selecting operation from given choice\n",
    "while True:\n",
    "    print('Choose :\\n\\t1- Encryption\\n\\t2- Decryption')\n",
    "    operation = input('Your Choosed: ')\n",
    "    if operation not in ['1', '2']:\n",
    "        break\n",
    "        \n",
    "    # Image / File Path for operation\n",
    "    file_path = input('File path: ')\n",
    "    \n",
    "    # Keys for performing Triple DES algorithm\n",
    "    key1 = input('Enter key 1: ')\n",
    "    key2 = input('Enter key 2: ')\n",
    "    key3 = input('Enter key 3: ')\n",
    "    \n",
    "    # Hash and adjust parity of each key\n",
    "    key_hash1 = md5(key1.encode('ascii')).digest()\n",
    "    tdes_key1 = DES3.adjust_key_parity(key_hash1)\n",
    "    \n",
    "    key_hash2 = md5(key2.encode('ascii')).digest()\n",
    "    tdes_key2 = DES3.adjust_key_parity(key_hash2)\n",
    "    \n",
    "    key_hash3 = md5(key3.encode('ascii')).digest()\n",
    "    tdes_key3 = DES3.adjust_key_parity(key_hash3)\n",
    "\n",
    "    # Cipher with integration of Triple DES key, MODE_EAX for Confidentiality & Authentication\n",
    "    # and nonce for generating random / pseudo random number which is used for authentication protocol\n",
    "    cipher = DES3.new(tdes_key1, DES3.MODE_EAX, nonce=b'0')\n",
    "\n",
    "    # Open & read file from given path\n",
    "    with open(file_path, 'rb') as input_file:\n",
    "        file_bytes = input_file.read()\n",
    "        \n",
    "        if operation == '1':\n",
    "            # Perform Encryption operation\n",
    "            new_file_bytes = cipher.encrypt(file_bytes)\n",
    "            cipher = DES3.new(tdes_key2, DES3.MODE_EAX, nonce=b'0')\n",
    "            new_file_bytes = cipher.decrypt(new_file_bytes)\n",
    "            cipher = DES3.new(tdes_key3, DES3.MODE_EAX, nonce=b'0')\n",
    "            new_file_bytes = cipher.encrypt(new_file_bytes)\n",
    "            new_file_path = os.path.splitext(file_path)[0] + '_encrypted' + os.path.splitext(file_path)[1]\n",
    "            print(\"Succesfully Encrypted\")\n",
    "        else:\n",
    "            # Perform Decryption operation\n",
    "            cipher = DES3.new(tdes_key1, DES3.MODE_EAX, nonce=b'0')\n",
    "            new_file_bytes = cipher.decrypt(file_bytes)\n",
    "            cipher = DES3.new(tdes_key2, DES3.MODE_EAX, nonce=b'0')\n",
    "            new_file_bytes = cipher.encrypt(new_file_bytes)\n",
    "            cipher = DES3.new(tdes_key3, DES3.MODE_EAX, nonce=b'0')\n",
    "            new_file_bytes = cipher.decrypt(new_file_bytes)\n",
    "            new_file_path = os.path.splitext(file_path)[0] + '_decrypted' + os.path.splitext(file_path)[1]\n",
    "            print(\"Scuccessfully Decrypted\")\n",
    "    \n",
    "    # Write updated values in file from given path\n",
    "    with open(file_path, 'wb') as output_file:\n",
    "        output_file.write(new_file_bytes)\n",
    "        break  \n",
    "img = Image.open(new_file_path)\n",
    "img.show()"
   ]
  }
 ],
 "metadata": {
  "kernelspec": {
   "display_name": "Python 3 (ipykernel)",
   "language": "python",
   "name": "python3"
  },
  "language_info": {
   "codemirror_mode": {
    "name": "ipython",
    "version": 3
   },
   "file_extension": ".py",
   "mimetype": "text/x-python",
   "name": "python",
   "nbconvert_exporter": "python",
   "pygments_lexer": "ipython3",
   "version": "3.9.12"
  }
 },
 "nbformat": 4,
 "nbformat_minor": 5
}
